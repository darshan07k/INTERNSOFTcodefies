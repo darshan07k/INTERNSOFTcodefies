{
  "nbformat": 4,
  "nbformat_minor": 0,
  "metadata": {
    "colab": {
      "provenance": []
    },
    "kernelspec": {
      "name": "python3",
      "display_name": "Python 3"
    },
    "language_info": {
      "name": "python"
    }
  },
  "cells": [
    {
      "cell_type": "markdown",
      "source": [
        "# Fundamental Types in python.\n",
        "\n",
        "\n"
      ],
      "metadata": {
        "id": "h9-yD-Bmdp8l"
      }
    },
    {
      "cell_type": "markdown",
      "source": [
        "1. **int**"
      ],
      "metadata": {
        "id": "Ye9EE7Med7EP"
      }
    },
    {
      "cell_type": "code",
      "source": [
        "#integer\n",
        "x=55\n",
        "type(x)"
      ],
      "metadata": {
        "colab": {
          "base_uri": "https://localhost:8080/"
        },
        "id": "Ttc8uBWNd-J9",
        "outputId": "cb2d6829-555b-4ed0-d48d-8ddd0d8e2fae"
      },
      "execution_count": null,
      "outputs": [
        {
          "output_type": "execute_result",
          "data": {
            "text/plain": [
              "int"
            ]
          },
          "metadata": {},
          "execution_count": 3
        }
      ]
    },
    {
      "cell_type": "markdown",
      "source": [
        "2. **float**"
      ],
      "metadata": {
        "id": "M7Cc70kLeemI"
      }
    },
    {
      "cell_type": "code",
      "source": [
        "#float\n",
        "x=1.33\n",
        "type(x)"
      ],
      "metadata": {
        "colab": {
          "base_uri": "https://localhost:8080/"
        },
        "id": "SEryNkclemgY",
        "outputId": "997730da-f216-499b-86cf-ffb1ba3e333b"
      },
      "execution_count": null,
      "outputs": [
        {
          "output_type": "execute_result",
          "data": {
            "text/plain": [
              "float"
            ]
          },
          "metadata": {},
          "execution_count": 4
        }
      ]
    },
    {
      "cell_type": "markdown",
      "source": [
        "3. **string**"
      ],
      "metadata": {
        "id": "3aFrjP4lem_D"
      }
    },
    {
      "cell_type": "code",
      "source": [
        "#string\n",
        "s='Hello World'\n",
        "#\n",
        "type(s)"
      ],
      "metadata": {
        "colab": {
          "base_uri": "https://localhost:8080/"
        },
        "id": "kXjr7dtOeqls",
        "outputId": "7dcf7f49-9b78-465c-9336-06722dac0159"
      },
      "execution_count": null,
      "outputs": [
        {
          "output_type": "execute_result",
          "data": {
            "text/plain": [
              "str"
            ]
          },
          "metadata": {},
          "execution_count": 5
        }
      ]
    },
    {
      "cell_type": "markdown",
      "source": [],
      "metadata": {
        "id": "rkQHAVaTeq_I"
      }
    },
    {
      "cell_type": "markdown",
      "source": [
        "4. **boolean**"
      ],
      "metadata": {
        "id": "xlRIh3WZe-kI"
      }
    },
    {
      "cell_type": "code",
      "source": [
        "#boolean\n",
        "t=True\n",
        "f=False\n",
        "print(type(t))\n",
        "print(type(f))"
      ],
      "metadata": {
        "colab": {
          "base_uri": "https://localhost:8080/"
        },
        "id": "Sy9hrFjGfBbf",
        "outputId": "2cdb000a-0cf7-4a45-882f-31df1d7a0100"
      },
      "execution_count": null,
      "outputs": [
        {
          "output_type": "stream",
          "name": "stdout",
          "text": [
            "<class 'bool'>\n",
            "<class 'bool'>\n"
          ]
        }
      ]
    },
    {
      "cell_type": "markdown",
      "source": [
        "5. **complex**"
      ],
      "metadata": {
        "id": "dSm8WsvPfCJa"
      }
    },
    {
      "cell_type": "code",
      "source": [
        "#complex\n",
        "c=12+13j\n",
        "type(c)\n"
      ],
      "metadata": {
        "colab": {
          "base_uri": "https://localhost:8080/"
        },
        "id": "BhjSxMSGfGsU",
        "outputId": "4a9c547a-5051-4926-d7be-eca3a51b13b6"
      },
      "execution_count": null,
      "outputs": [
        {
          "output_type": "execute_result",
          "data": {
            "text/plain": [
              "complex"
            ]
          },
          "metadata": {},
          "execution_count": 11
        }
      ]
    },
    {
      "cell_type": "markdown",
      "source": [
        "# variables in python"
      ],
      "metadata": {
        "id": "tF1s0Z_VfHsB"
      }
    },
    {
      "cell_type": "markdown",
      "source": [
        "1. **Defining**"
      ],
      "metadata": {
        "id": "Xaa5SJkIfaod"
      }
    },
    {
      "cell_type": "code",
      "source": [
        "#defining a variable\n",
        "one=1\n",
        "name='Darshan K'\n",
        "print(one) #1\n",
        "print(name) #Darshan K"
      ],
      "metadata": {
        "colab": {
          "base_uri": "https://localhost:8080/"
        },
        "id": "qJHSQmVLmFPt",
        "outputId": "4ad4323a-48ce-44de-dabc-e954482d7c65"
      },
      "execution_count": null,
      "outputs": [
        {
          "output_type": "stream",
          "name": "stdout",
          "text": [
            "1\n",
            "Darshan K\n"
          ]
        }
      ]
    },
    {
      "cell_type": "markdown",
      "source": [
        "2. **Dynamic Typing**"
      ],
      "metadata": {
        "id": "P9wHuaiLm5qj"
      }
    },
    {
      "cell_type": "code",
      "source": [
        "value=2\n",
        "print(type(value))\n",
        "value='Hello'\n",
        "print(type(value))"
      ],
      "metadata": {
        "colab": {
          "base_uri": "https://localhost:8080/"
        },
        "id": "H5UNa-hbm8_Y",
        "outputId": "dc60f10b-ab84-40b0-ea89-212aab0bd4d5"
      },
      "execution_count": null,
      "outputs": [
        {
          "output_type": "stream",
          "name": "stdout",
          "text": [
            "<class 'int'>\n",
            "<class 'str'>\n"
          ]
        }
      ]
    },
    {
      "cell_type": "markdown",
      "source": [
        "3. **Strong Typing**"
      ],
      "metadata": {
        "id": "KIZys-VGnTcF"
      }
    },
    {
      "cell_type": "code",
      "source": [
        "#s='Day'+1 #TypeError: can only concatenate str (not \"int\") to str\n",
        "#we can use str(1)\n",
        "s='Day '+str(1) #1 is converted into string\n",
        "print(s)"
      ],
      "metadata": {
        "colab": {
          "base_uri": "https://localhost:8080/"
        },
        "id": "fWCkBamxnXER",
        "outputId": "6e90dd86-8449-4595-b914-c2978ab0a174"
      },
      "execution_count": null,
      "outputs": [
        {
          "output_type": "stream",
          "name": "stdout",
          "text": [
            "Day 1\n"
          ]
        }
      ]
    },
    {
      "cell_type": "markdown",
      "source": [
        "# Simple expressions"
      ],
      "metadata": {
        "id": "COMOW8XqpCS0"
      }
    },
    {
      "cell_type": "markdown",
      "source": [
        "1. Boolean expressions"
      ],
      "metadata": {
        "id": "tcG6e0_kpN3R"
      }
    },
    {
      "cell_type": "code",
      "source": [
        "True is True"
      ],
      "metadata": {
        "colab": {
          "base_uri": "https://localhost:8080/"
        },
        "id": "UEA2EjZ2pQrJ",
        "outputId": "65f3906f-8001-4cbb-8f53-f078c9268448"
      },
      "execution_count": null,
      "outputs": [
        {
          "output_type": "execute_result",
          "data": {
            "text/plain": [
              "True"
            ]
          },
          "metadata": {},
          "execution_count": 17
        }
      ]
    },
    {
      "cell_type": "code",
      "source": [
        "True and False"
      ],
      "metadata": {
        "colab": {
          "base_uri": "https://localhost:8080/"
        },
        "id": "-FhnODiPpWik",
        "outputId": "e9ba6394-6002-44ee-a260-4cee02a1176c"
      },
      "execution_count": null,
      "outputs": [
        {
          "output_type": "execute_result",
          "data": {
            "text/plain": [
              "False"
            ]
          },
          "metadata": {},
          "execution_count": 18
        }
      ]
    },
    {
      "cell_type": "code",
      "source": [
        "True or False"
      ],
      "metadata": {
        "colab": {
          "base_uri": "https://localhost:8080/"
        },
        "id": "jzLm9YeppYl1",
        "outputId": "10e36119-6e05-4061-ce77-3c52d43d6d90"
      },
      "execution_count": null,
      "outputs": [
        {
          "output_type": "execute_result",
          "data": {
            "text/plain": [
              "True"
            ]
          },
          "metadata": {},
          "execution_count": 19
        }
      ]
    },
    {
      "cell_type": "code",
      "source": [
        "False or False"
      ],
      "metadata": {
        "colab": {
          "base_uri": "https://localhost:8080/"
        },
        "id": "pxJ0ANPspcb0",
        "outputId": "5d461fb9-120d-4ebc-d9fe-0147eff73555"
      },
      "execution_count": null,
      "outputs": [
        {
          "output_type": "execute_result",
          "data": {
            "text/plain": [
              "False"
            ]
          },
          "metadata": {},
          "execution_count": 20
        }
      ]
    },
    {
      "cell_type": "code",
      "source": [
        "print(not False)\n",
        "not True"
      ],
      "metadata": {
        "colab": {
          "base_uri": "https://localhost:8080/"
        },
        "id": "zrBF9LWOpl9S",
        "outputId": "1fa0ae88-68a7-4b36-95ab-c9302311999c"
      },
      "execution_count": null,
      "outputs": [
        {
          "output_type": "stream",
          "name": "stdout",
          "text": [
            "True\n"
          ]
        },
        {
          "output_type": "execute_result",
          "data": {
            "text/plain": [
              "False"
            ]
          },
          "metadata": {},
          "execution_count": 23
        }
      ]
    },
    {
      "cell_type": "markdown",
      "source": [
        "2. **Branching: If Else**"
      ],
      "metadata": {
        "id": "3koblROiqWql"
      }
    },
    {
      "cell_type": "code",
      "source": [
        "i=4\n",
        "if i==4:\n",
        "  print(\"Equal\")\n",
        "else:\n",
        "  print(\"Not Equal\")"
      ],
      "metadata": {
        "colab": {
          "base_uri": "https://localhost:8080/"
        },
        "id": "N8-xNgYiqciP",
        "outputId": "160e1366-47ac-410c-e85a-deedb88ba6d7"
      },
      "execution_count": null,
      "outputs": [
        {
          "output_type": "stream",
          "name": "stdout",
          "text": [
            "Equal\n"
          ]
        }
      ]
    },
    {
      "cell_type": "markdown",
      "source": [
        "if elif"
      ],
      "metadata": {
        "id": "El67BiXuq2nM"
      }
    },
    {
      "cell_type": "code",
      "source": [
        "i=98\n",
        "if i==99:\n",
        "  print(\"Equal to 99\")\n",
        "elif i<99:\n",
        "  print(\"Less Than 99\")\n",
        "else:\n",
        "  print(\"Greater than 99\")"
      ],
      "metadata": {
        "colab": {
          "base_uri": "https://localhost:8080/"
        },
        "id": "bThnIlQHq5ak",
        "outputId": "215d02d3-a1f9-4f62-f367-abf6574e4fab"
      },
      "execution_count": null,
      "outputs": [
        {
          "output_type": "stream",
          "name": "stdout",
          "text": [
            "Less Than 99\n"
          ]
        }
      ]
    },
    {
      "cell_type": "markdown",
      "source": [
        "Indentation: 4 spaces"
      ],
      "metadata": {
        "id": "9RMc5BBWs_rZ"
      }
    },
    {
      "cell_type": "code",
      "source": [
        "a=1\n",
        "if a!=2:\n",
        "    print('a =',a)"
      ],
      "metadata": {
        "colab": {
          "base_uri": "https://localhost:8080/"
        },
        "id": "IrhOHKcgtzqE",
        "outputId": "306cdc7a-6bf2-40f8-9d9d-ec57d0f3297b"
      },
      "execution_count": 3,
      "outputs": [
        {
          "output_type": "stream",
          "name": "stdout",
          "text": [
            "a = 1\n"
          ]
        }
      ]
    },
    {
      "cell_type": "code",
      "source": [],
      "metadata": {
        "id": "B-Ib-kYdt8j5"
      },
      "execution_count": null,
      "outputs": []
    },
    {
      "cell_type": "markdown",
      "source": [
        "# **Lists**"
      ],
      "metadata": {
        "id": "6Epze-5ouYPo"
      }
    },
    {
      "cell_type": "code",
      "source": [
        "l=[]#list is mutable\n",
        "l\n"
      ],
      "metadata": {
        "colab": {
          "base_uri": "https://localhost:8080/"
        },
        "id": "QWLqAt5JubLb",
        "outputId": "9a65c73f-b351-4f1d-a9ea-7ad0a5cb7dbe"
      },
      "execution_count": 4,
      "outputs": [
        {
          "output_type": "execute_result",
          "data": {
            "text/plain": [
              "[]"
            ]
          },
          "metadata": {},
          "execution_count": 4
        }
      ]
    },
    {
      "cell_type": "code",
      "source": [
        "l=[1,2,3,4,5]\n",
        "print(l)\n",
        "print(type(l))\n",
        "l.append('a')\n",
        "l.append('b')\n",
        "l.append('c')\n",
        "print(l)\n",
        "l.insert(0,9999)\n",
        "l.insert(1,8888)\n",
        "print(l)\n"
      ],
      "metadata": {
        "colab": {
          "base_uri": "https://localhost:8080/"
        },
        "id": "-eZTCiTpu8V4",
        "outputId": "74ee3475-5762-4106-d7ad-dc61c9be101a"
      },
      "execution_count": 10,
      "outputs": [
        {
          "output_type": "stream",
          "name": "stdout",
          "text": [
            "[1, 2, 3, 4, 5]\n",
            "<class 'list'>\n",
            "[1, 2, 3, 4, 5, 'a', 'b', 'c']\n",
            "[9999, 8888, 1, 2, 3, 4, 5, 'a', 'b', 'c']\n"
          ]
        }
      ]
    },
    {
      "cell_type": "markdown",
      "source": [
        "**Iterating over a List**"
      ],
      "metadata": {
        "id": "8-dWPgrZvr1I"
      }
    },
    {
      "cell_type": "code",
      "source": [
        "for element in l:\n",
        "  print(element)"
      ],
      "metadata": {
        "colab": {
          "base_uri": "https://localhost:8080/"
        },
        "id": "9SH1QOHvvu72",
        "outputId": "f60f4435-9ba7-4723-d545-514d6989b01f"
      },
      "execution_count": 12,
      "outputs": [
        {
          "output_type": "stream",
          "name": "stdout",
          "text": [
            "9999\n",
            "8888\n",
            "1\n",
            "2\n",
            "3\n",
            "4\n",
            "5\n",
            "a\n",
            "b\n",
            "c\n"
          ]
        }
      ]
    },
    {
      "cell_type": "markdown",
      "source": [
        "# **Loops**"
      ],
      "metadata": {
        "id": "WOlupBqlv9S3"
      }
    },
    {
      "cell_type": "markdown",
      "source": [
        "1. for Loop"
      ],
      "metadata": {
        "id": "_9SZ3ORHwEKr"
      }
    },
    {
      "cell_type": "code",
      "source": [
        "l=[1,2,3,4,5,6]\n",
        "sum=0\n",
        "for i in l:\n",
        "  sum+=i\n",
        "print(\"sum is \",sum)"
      ],
      "metadata": {
        "colab": {
          "base_uri": "https://localhost:8080/"
        },
        "id": "7r478aX3wHBb",
        "outputId": "d6f14276-8b97-462a-8157-20fe252576c6"
      },
      "execution_count": 16,
      "outputs": [
        {
          "output_type": "stream",
          "name": "stdout",
          "text": [
            "sum is  21\n"
          ]
        }
      ]
    },
    {
      "cell_type": "markdown",
      "source": [
        "**For loop with else Part.**"
      ],
      "metadata": {
        "id": "zZD85T96wmTc"
      }
    },
    {
      "cell_type": "code",
      "source": [
        "l=[1,2,3,4]\n",
        "for i in l:\n",
        "  print(i)\n",
        "else:\n",
        "  print('No elements left')"
      ],
      "metadata": {
        "colab": {
          "base_uri": "https://localhost:8080/"
        },
        "id": "5y6PF7LmxCor",
        "outputId": "89ddaa33-3f17-42e7-eac4-16c0c7d9ecfc"
      },
      "execution_count": 17,
      "outputs": [
        {
          "output_type": "stream",
          "name": "stdout",
          "text": [
            "1\n",
            "2\n",
            "3\n",
            "4\n",
            "No elements left\n"
          ]
        }
      ]
    },
    {
      "cell_type": "markdown",
      "source": [
        "with break statement else part is ignored"
      ],
      "metadata": {
        "id": "mDcq9xu7xLxo"
      }
    },
    {
      "cell_type": "code",
      "source": [
        "l=[1,2,3,4,5,6,7,8]\n",
        "for i in l:\n",
        "  if i==5:\n",
        "    break\n",
        "  print(i)\n",
        "else:\n",
        "  print('No elements left')"
      ],
      "metadata": {
        "colab": {
          "base_uri": "https://localhost:8080/"
        },
        "id": "v1sdIa9oxP9r",
        "outputId": "70f633dc-82f6-4ab9-cb14-ab0974e1deed"
      },
      "execution_count": 18,
      "outputs": [
        {
          "output_type": "stream",
          "name": "stdout",
          "text": [
            "1\n",
            "2\n",
            "3\n",
            "4\n"
          ]
        }
      ]
    },
    {
      "cell_type": "markdown",
      "source": [
        "**while Loop**"
      ],
      "metadata": {
        "id": "RYs7bkp_xlKh"
      }
    },
    {
      "cell_type": "code",
      "source": [
        "#program to add N numbers using While Loop\n",
        "n=int(input('enter n:'))\n",
        "sum=0\n",
        "while n>0:\n",
        "  sum+=n\n",
        "  n-=1\n",
        "print(\"sum is \", sum)"
      ],
      "metadata": {
        "colab": {
          "base_uri": "https://localhost:8080/"
        },
        "id": "Q8GzYICdxoE7",
        "outputId": "347f713e-1c60-49a3-dfbf-6bfeb9644cf1"
      },
      "execution_count": 21,
      "outputs": [
        {
          "output_type": "stream",
          "name": "stdout",
          "text": [
            "enter n:5\n",
            "sum is  15\n"
          ]
        }
      ]
    },
    {
      "cell_type": "markdown",
      "source": [
        "**range() function**"
      ],
      "metadata": {
        "id": "HZ_uua9yyM4G"
      }
    },
    {
      "cell_type": "code",
      "source": [
        "#generating a sequence of numbers upto a range\n",
        "#syntax: range(start,stop,step)\n",
        "range(10)\n",
        "l=list(range(10))#stop is exclusive\n",
        "l1=list(range(0,10,2))#with step size 2\n",
        "print(\"l= \",l)\n",
        "print(\"l1= \",l1)"
      ],
      "metadata": {
        "colab": {
          "base_uri": "https://localhost:8080/"
        },
        "id": "Q5J_bSqGyQnP",
        "outputId": "a4e405c2-b9e0-49e3-b4f5-ab394ccf7380"
      },
      "execution_count": 26,
      "outputs": [
        {
          "output_type": "stream",
          "name": "stdout",
          "text": [
            "l=  [0, 1, 2, 3, 4, 5, 6, 7, 8, 9]\n",
            "l1=  [0, 2, 4, 6, 8]\n"
          ]
        }
      ]
    },
    {
      "cell_type": "markdown",
      "source": [
        "**iterating using indexing in a list**"
      ],
      "metadata": {
        "id": "LlFFyKgazDKQ"
      }
    },
    {
      "cell_type": "code",
      "source": [
        "#len() function gives the length of an iterable\n",
        "l=[1,2,3,4]\n",
        "print(\"length of list l is \",len(l))\n",
        "for i in range(len(l)):\n",
        "  print(l[i])\n"
      ],
      "metadata": {
        "colab": {
          "base_uri": "https://localhost:8080/"
        },
        "id": "ZcHAfSYJx25Q",
        "outputId": "81cac68c-e43d-4c97-8159-b230440f0775"
      },
      "execution_count": 27,
      "outputs": [
        {
          "output_type": "stream",
          "name": "stdout",
          "text": [
            "length of list l is  4\n",
            "1\n",
            "2\n",
            "3\n",
            "4\n"
          ]
        }
      ]
    },
    {
      "cell_type": "markdown",
      "source": [
        "**Break and continue statements**"
      ],
      "metadata": {
        "id": "X7CmEteaz3Vy"
      }
    },
    {
      "cell_type": "code",
      "source": [
        "#break\n",
        "name=input(\"enter your name \")\n",
        "for i in range(len(name)):\n",
        "  if name[i]==\" \":\n",
        "    break\n",
        "  print(name[i])"
      ],
      "metadata": {
        "colab": {
          "base_uri": "https://localhost:8080/"
        },
        "id": "l9ARiXPOzm4-",
        "outputId": "b58335bc-3915-4080-c761-481c94a89972"
      },
      "execution_count": 29,
      "outputs": [
        {
          "output_type": "stream",
          "name": "stdout",
          "text": [
            "enter your name Darshan K\n",
            "D\n",
            "a\n",
            "r\n",
            "s\n",
            "h\n",
            "a\n",
            "n\n"
          ]
        }
      ]
    },
    {
      "cell_type": "code",
      "source": [
        "#continue\n",
        "name=input(\"enter your name \")\n",
        "for i in range(len(name)):\n",
        "  if name[i]==\" \":\n",
        "    continue\n",
        "  print(name[i],end=\"\")\n"
      ],
      "metadata": {
        "colab": {
          "base_uri": "https://localhost:8080/"
        },
        "id": "eO2tvWsN0TWY",
        "outputId": "07ce24d1-4a79-452b-e3f0-1fb1811ff696"
      },
      "execution_count": 31,
      "outputs": [
        {
          "output_type": "stream",
          "name": "stdout",
          "text": [
            "enter your name D a        r   s  h   a    n   .        K .\n",
            "Darshan.K."
          ]
        }
      ]
    },
    {
      "cell_type": "markdown",
      "source": [
        "# **User inputs**"
      ],
      "metadata": {
        "id": "wb4hRt2J1G0h"
      }
    },
    {
      "cell_type": "code",
      "source": [
        "#to read a string\n",
        "s=input(\"enter your Name \")\n",
        "print(s)\n",
        "type(s)"
      ],
      "metadata": {
        "colab": {
          "base_uri": "https://localhost:8080/"
        },
        "id": "yo50bDF50uSp",
        "outputId": "c5dfa2f3-840d-426b-f809-46b714cb79c2"
      },
      "execution_count": 33,
      "outputs": [
        {
          "output_type": "stream",
          "name": "stdout",
          "text": [
            "enter your Name Darshan K\n",
            "Darshan K\n"
          ]
        },
        {
          "output_type": "execute_result",
          "data": {
            "text/plain": [
              "str"
            ]
          },
          "metadata": {},
          "execution_count": 33
        }
      ]
    },
    {
      "cell_type": "code",
      "source": [
        "#to read integers\n",
        "age=int(input(\"Enter your Age\"))\n",
        "print(\"Your age is \",age)\n",
        "type(age)"
      ],
      "metadata": {
        "colab": {
          "base_uri": "https://localhost:8080/"
        },
        "id": "jchMiB1U1VsS",
        "outputId": "52077e09-1df8-409d-9e8c-b2b8268a7c86"
      },
      "execution_count": 34,
      "outputs": [
        {
          "output_type": "stream",
          "name": "stdout",
          "text": [
            "Enter your Age20\n",
            "Your age is  20\n"
          ]
        },
        {
          "output_type": "execute_result",
          "data": {
            "text/plain": [
              "int"
            ]
          },
          "metadata": {},
          "execution_count": 34
        }
      ]
    },
    {
      "cell_type": "code",
      "source": [
        "name=\"darshan\"\n",
        "print(\"hi \"+name+\", you are \"+str(age)+\" Years old!\")"
      ],
      "metadata": {
        "colab": {
          "base_uri": "https://localhost:8080/"
        },
        "id": "kpd4YK5K2C34",
        "outputId": "cc99fb8c-d3ef-4dca-c584-11616b40598e"
      },
      "execution_count": 37,
      "outputs": [
        {
          "output_type": "stream",
          "name": "stdout",
          "text": [
            "hi darshan, you are 20 Years old!\n"
          ]
        }
      ]
    }
  ]
}